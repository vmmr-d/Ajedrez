{
 "cells": [
  {
   "cell_type": "markdown",
   "metadata": {},
   "source": [
    "# Librerías Necesarias"
   ]
  },
  {
   "cell_type": "code",
   "execution_count": 1,
   "metadata": {},
   "outputs": [],
   "source": [
    "# Importamos las librerías requeridas para el proyecto\n",
    "import streamlit as st\n",
    "import pandas as pd\n",
    "import numpy as np\n",
    "import ast\n",
    "import chess\n",
    "import chess.pgn\n",
    "import io\n",
    "import requests\n",
    "import os\n",
    "import pickle\n",
    "import time\n",
    "import matplotlib.pyplot as plt\n",
    "import seaborn as sns\n",
    "import missingno as msno\n",
    "from tqdm.notebook import tqdm\n",
    "from pathlib import Path\n",
    "from bs4 import BeautifulSoup\n",
    "\n",
    "from sklearn.model_selection import train_test_split, RandomizedSearchCV, StratifiedKFold\n",
    "from sklearn.preprocessing import StandardScaler \n",
    "from sklearn.compose import ColumnTransformer\n",
    "from sklearn.pipeline import Pipeline\n",
    "from sklearn.ensemble import RandomForestClassifier, VotingClassifier\n",
    "from sklearn.linear_model import LogisticRegression\n",
    "from sklearn.metrics import classification_report, accuracy_score, confusion_matrix\n",
    "from sklearn.feature_extraction.text import CountVectorizer\n",
    "from sklearn.exceptions import NotFittedError\n",
    "\n",
    "import tensorflow as tf\n",
    "from tensorflow.keras.models import Sequential, load_model\n",
    "from tensorflow.keras.layers import Dense, Dropout, LSTM, Embedding, Flatten\n",
    "from tensorflow.keras.optimizers import Adam\n",
    "from tensorflow.keras.preprocessing.text import Tokenizer\n",
    "from tensorflow.keras.preprocessing.sequence import pad_sequences\n",
    "from tensorflow.keras.callbacks import EarlyStopping\n",
    "from tensorflow.keras import layers, Model, utils, callbacks\n",
    "\n",
    "import shap\n",
    "import warnings\n",
    "import joblib\n",
    "\n",
    "# Import Stockfish\n",
    "import stockfish\n",
    "\n",
    "\n",
    "from utils import pgn_to_dataframe, extraer_time_control\n",
    "from evaluador import Evaluador\n",
    "from Ajedrez_Prediccion import ChessResultPredictor\n",
    "\n",
    "warnings.filterwarnings('ignore')"
   ]
  },
  {
   "cell_type": "markdown",
   "metadata": {},
   "source": [
    "# Datasets"
   ]
  },
  {
   "cell_type": "markdown",
   "metadata": {},
   "source": [
    "## Carga de Datos"
   ]
  },
  {
   "cell_type": "code",
   "execution_count": 2,
   "metadata": {},
   "outputs": [
    {
     "name": "stdout",
     "output_type": "stream",
     "text": [
      "Archivo guardado exitosamente.\n",
      "<class 'pandas.core.frame.DataFrame'>\n",
      "RangeIndex: 121332 entries, 0 to 121331\n",
      "Data columns (total 8 columns):\n",
      " #   Column       Non-Null Count   Dtype \n",
      "---  ------       --------------   ----- \n",
      " 0   Event        121332 non-null  object\n",
      " 1   Result       121332 non-null  int64 \n",
      " 2   WhiteElo     121332 non-null  int64 \n",
      " 3   BlackElo     121332 non-null  int64 \n",
      " 4   TimeControl  121332 non-null  object\n",
      " 5   ECO          121332 non-null  object\n",
      " 6   Opening      121332 non-null  object\n",
      " 7   Moves        121332 non-null  object\n",
      "dtypes: int64(3), object(5)\n",
      "memory usage: 7.4+ MB\n"
     ]
    }
   ],
   "source": [
    "# Usamos la funcion pgn_to_dataframe para convertir el contenido PGN a un DataFrame\n",
    "pgn_content = open('../Data/Raw/lichess_db_standard_rated_2013-01.pgn', 'r').read()\n",
    "\n",
    "Games = pgn_to_dataframe(pgn_content)\n",
    "Games.info()"
   ]
  },
  {
   "cell_type": "markdown",
   "metadata": {},
   "source": [
    "## EDA"
   ]
  },
  {
   "cell_type": "code",
   "execution_count": 3,
   "metadata": {},
   "outputs": [
    {
     "data": {
      "application/vnd.microsoft.datawrangler.viewer.v0+json": {
       "columns": [
        {
         "name": "index",
         "rawType": "int64",
         "type": "integer"
        },
        {
         "name": "Event",
         "rawType": "object",
         "type": "string"
        },
        {
         "name": "Result",
         "rawType": "int64",
         "type": "integer"
        },
        {
         "name": "WhiteElo",
         "rawType": "int64",
         "type": "integer"
        },
        {
         "name": "BlackElo",
         "rawType": "int64",
         "type": "integer"
        },
        {
         "name": "TimeControl",
         "rawType": "object",
         "type": "string"
        },
        {
         "name": "ECO",
         "rawType": "object",
         "type": "string"
        },
        {
         "name": "Opening",
         "rawType": "object",
         "type": "string"
        },
        {
         "name": "Moves",
         "rawType": "object",
         "type": "string"
        }
       ],
       "conversionMethod": "pd.DataFrame",
       "ref": "348cf311-40b4-4a00-82b7-106543914a45",
       "rows": [
        [
         "0",
         "Rated Classical game",
         "0",
         "1639",
         "1403",
         "600+8",
         "C00",
         "French Defense: Normal Variation",
         "e4 e6 d4 b6 a3 Bb7 Nc3 Nh6 Bxh6 gxh6 Be2 Qg5 Bg4 h5 Nf3 Qg6 Nh4 Qg5 Bxh5 Qxh4 Qf3 Kd8 Qxf7 Nc6 Qe8#"
        ],
        [
         "1",
         "Rated Classical game",
         "0",
         "1654",
         "1919",
         "480+2",
         "D04",
         "Queen's Pawn Game: Colle System, Anti-Colle",
         "d4 d5 Nf3 Nf6 e3 Bf5 Nh4 Bg6 Nxg6 hxg6 Nd2 e6 Bd3 Bd6 e4 dxe4 Nxe4 Rxh2 Ke2 Rxh1 Qxh1 Nc6 Bg5 Ke7 Qh7 Nxd4+ Kd2 Qe8 Qxg7 Qh8 Bxf6+ Kd7 Qxh8 Rxh8 Bxh8"
        ],
        [
         "2",
         "Rated Classical game",
         "0",
         "1643",
         "1747",
         "420+17",
         "C50",
         "Four Knights Game: Italian Variation",
         "e4 e5 Nf3 Nc6 Bc4 Nf6 Nc3 Bc5 a3 Bxf2+ Kxf2 Nd4 d3 Ng4+ Kf1 Qf6 h3 d5 Nxd5 Qe6 Nxc7+"
        ],
        [
         "3",
         "Rated Bullet game",
         "1",
         "1824",
         "1973",
         "60+1",
         "B12",
         "Caro-Kann Defense: Goldman Variation",
         "e4 c6 Nc3 d5 Qf3 dxe4 Nxe4 Nd7 Bc4 Ngf6 Nxf6+ Nxf6 Qg3 Bf5 d3 Bg6 Ne2 e6 Bf4 Nh5 Qf3 Nxf4 Nxf4 Be7 Bxe6 fxe6 Nxe6 Qa5+ c3 Qe5+ Qe3 Qxe3+ fxe3 Kd7 Nf4 Bd6 Nxg6 hxg6 h3 Bg3+ Kd2 Raf8 Rhf1 Ke7 d4 Rxf1 Rxf1 Rf8 Rxf8 Kxf8 e4 Ke7 Ke3 g5 Kf3 Be1 Kg4 Bd2 Kf5 Bc1 Kg6 Kf8 e5 Bxb2 Kxg5 Bxc3 h4 Bxd4 h5 Bxe5 g4 Bb2 Kf5 Kf7 g5 Bc1 g6+ Ke7 Ke5 b5 Kd4 Kd6 Kc3 c5 a3 Bg5 a4 bxa4 Kb2 Kd5 Ka3 Kd4 Kxa4 c4"
        ],
        [
         "4",
         "Rated Bullet game",
         "1",
         "1765",
         "1815",
         "60+1",
         "C00",
         "French Defense: La Bourdonnais Variation",
         "e4 e6 f4 d5 e5 c5 Nf3 Qb6 c3 Nc6 d3 Bd7 Be2 Nh6 O-O Nf5 g4 Nh6 Kg2 Nxg4 h3 Nh6 Ng5 Nf5 Bg4 Nce7 Nd2 Ne3+ Kf3 Nxd1 Rxd1 h6 Nxf7 Kxf7 Rf1 h5 Bxe6+ Bxe6 Kg3 Nf5+ Kg2 Ne3+ Kf2 Nxf1 Kxf1 Bxh3+"
        ]
       ],
       "shape": {
        "columns": 8,
        "rows": 5
       }
      },
      "text/html": [
       "<div>\n",
       "<style scoped>\n",
       "    .dataframe tbody tr th:only-of-type {\n",
       "        vertical-align: middle;\n",
       "    }\n",
       "\n",
       "    .dataframe tbody tr th {\n",
       "        vertical-align: top;\n",
       "    }\n",
       "\n",
       "    .dataframe thead th {\n",
       "        text-align: right;\n",
       "    }\n",
       "</style>\n",
       "<table border=\"1\" class=\"dataframe\">\n",
       "  <thead>\n",
       "    <tr style=\"text-align: right;\">\n",
       "      <th></th>\n",
       "      <th>Event</th>\n",
       "      <th>Result</th>\n",
       "      <th>WhiteElo</th>\n",
       "      <th>BlackElo</th>\n",
       "      <th>TimeControl</th>\n",
       "      <th>ECO</th>\n",
       "      <th>Opening</th>\n",
       "      <th>Moves</th>\n",
       "    </tr>\n",
       "  </thead>\n",
       "  <tbody>\n",
       "    <tr>\n",
       "      <th>0</th>\n",
       "      <td>Rated Classical game</td>\n",
       "      <td>0</td>\n",
       "      <td>1639</td>\n",
       "      <td>1403</td>\n",
       "      <td>600+8</td>\n",
       "      <td>C00</td>\n",
       "      <td>French Defense: Normal Variation</td>\n",
       "      <td>e4 e6 d4 b6 a3 Bb7 Nc3 Nh6 Bxh6 gxh6 Be2 Qg5 B...</td>\n",
       "    </tr>\n",
       "    <tr>\n",
       "      <th>1</th>\n",
       "      <td>Rated Classical game</td>\n",
       "      <td>0</td>\n",
       "      <td>1654</td>\n",
       "      <td>1919</td>\n",
       "      <td>480+2</td>\n",
       "      <td>D04</td>\n",
       "      <td>Queen's Pawn Game: Colle System, Anti-Colle</td>\n",
       "      <td>d4 d5 Nf3 Nf6 e3 Bf5 Nh4 Bg6 Nxg6 hxg6 Nd2 e6 ...</td>\n",
       "    </tr>\n",
       "    <tr>\n",
       "      <th>2</th>\n",
       "      <td>Rated Classical game</td>\n",
       "      <td>0</td>\n",
       "      <td>1643</td>\n",
       "      <td>1747</td>\n",
       "      <td>420+17</td>\n",
       "      <td>C50</td>\n",
       "      <td>Four Knights Game: Italian Variation</td>\n",
       "      <td>e4 e5 Nf3 Nc6 Bc4 Nf6 Nc3 Bc5 a3 Bxf2+ Kxf2 Nd...</td>\n",
       "    </tr>\n",
       "    <tr>\n",
       "      <th>3</th>\n",
       "      <td>Rated Bullet game</td>\n",
       "      <td>1</td>\n",
       "      <td>1824</td>\n",
       "      <td>1973</td>\n",
       "      <td>60+1</td>\n",
       "      <td>B12</td>\n",
       "      <td>Caro-Kann Defense: Goldman Variation</td>\n",
       "      <td>e4 c6 Nc3 d5 Qf3 dxe4 Nxe4 Nd7 Bc4 Ngf6 Nxf6+ ...</td>\n",
       "    </tr>\n",
       "    <tr>\n",
       "      <th>4</th>\n",
       "      <td>Rated Bullet game</td>\n",
       "      <td>1</td>\n",
       "      <td>1765</td>\n",
       "      <td>1815</td>\n",
       "      <td>60+1</td>\n",
       "      <td>C00</td>\n",
       "      <td>French Defense: La Bourdonnais Variation</td>\n",
       "      <td>e4 e6 f4 d5 e5 c5 Nf3 Qb6 c3 Nc6 d3 Bd7 Be2 Nh...</td>\n",
       "    </tr>\n",
       "  </tbody>\n",
       "</table>\n",
       "</div>"
      ],
      "text/plain": [
       "                  Event  Result  WhiteElo  BlackElo TimeControl  ECO  \\\n",
       "0  Rated Classical game       0      1639      1403       600+8  C00   \n",
       "1  Rated Classical game       0      1654      1919       480+2  D04   \n",
       "2  Rated Classical game       0      1643      1747      420+17  C50   \n",
       "3     Rated Bullet game       1      1824      1973        60+1  B12   \n",
       "4     Rated Bullet game       1      1765      1815        60+1  C00   \n",
       "\n",
       "                                       Opening  \\\n",
       "0             French Defense: Normal Variation   \n",
       "1  Queen's Pawn Game: Colle System, Anti-Colle   \n",
       "2         Four Knights Game: Italian Variation   \n",
       "3         Caro-Kann Defense: Goldman Variation   \n",
       "4     French Defense: La Bourdonnais Variation   \n",
       "\n",
       "                                               Moves  \n",
       "0  e4 e6 d4 b6 a3 Bb7 Nc3 Nh6 Bxh6 gxh6 Be2 Qg5 B...  \n",
       "1  d4 d5 Nf3 Nf6 e3 Bf5 Nh4 Bg6 Nxg6 hxg6 Nd2 e6 ...  \n",
       "2  e4 e5 Nf3 Nc6 Bc4 Nf6 Nc3 Bc5 a3 Bxf2+ Kxf2 Nd...  \n",
       "3  e4 c6 Nc3 d5 Qf3 dxe4 Nxe4 Nd7 Bc4 Ngf6 Nxf6+ ...  \n",
       "4  e4 e6 f4 d5 e5 c5 Nf3 Qb6 c3 Nc6 d3 Bd7 Be2 Nh...  "
      ]
     },
     "execution_count": 3,
     "metadata": {},
     "output_type": "execute_result"
    }
   ],
   "source": [
    "# Mostramos los primeros registros\n",
    "Games.head()"
   ]
  },
  {
   "cell_type": "code",
   "execution_count": 4,
   "metadata": {},
   "outputs": [],
   "source": [
    "# Reemplazamos valores de cadena vacía obtenidos con NaN\n",
    "Games.replace([\"\",'Unknown', '?'], np.nan, inplace=True)"
   ]
  },
  {
   "cell_type": "code",
   "execution_count": 5,
   "metadata": {},
   "outputs": [
    {
     "data": {
      "text/plain": [
       "<Axes: >"
      ]
     },
     "execution_count": 5,
     "metadata": {},
     "output_type": "execute_result"
    },
    {
     "data": {
      "image/png": "[encoded data removed]",
      "text/plain": [
       "<Figure size 2500x1000 with 2 Axes>"
      ]
     },
     "metadata": {},
     "output_type": "display_data"
    }
   ],
   "source": [
    "# Mostramos los valores nulos\n",
    "Games.isnull().sum()\n",
    "\n",
    "#Usamos missingno para visualizar los valores nulos\n",
    "msno.matrix(Games)"
   ]
  },
  {
   "cell_type": "code",
   "execution_count": 6,
   "metadata": {},
   "outputs": [
    {
     "data": {
      "text/plain": [
       "Result              3\n",
       "Event             151\n",
       "TimeControl       396\n",
       "ECO               411\n",
       "WhiteElo         1346\n",
       "BlackElo         1358\n",
       "Opening          1846\n",
       "Moves          120521\n",
       "dtype: int64"
      ]
     },
     "execution_count": 6,
     "metadata": {},
     "output_type": "execute_result"
    }
   ],
   "source": [
    "# Mostramos los valores únicos de las columnas\n",
    "Games.nunique().sort_values()"
   ]
  },
  {
   "cell_type": "code",
   "execution_count": 7,
   "metadata": {},
   "outputs": [
    {
     "data": {
      "text/plain": [
       "Event\n",
       "Rated Blitz game                                                      45388\n",
       "Rated Classical game                                                  41772\n",
       "Rated Bullet game                                                     32691\n",
       "Rated Correspondence game                                               266\n",
       "Rated Blitz tournament https://lichess.org/tournament/eaxo4pkh           18\n",
       "                                                                      ...  \n",
       "Rated Classical tournament https://lichess.org/tournament/dshcjgey        2\n",
       "Rated Blitz tournament https://lichess.org/tournament/dbu4m3u3            2\n",
       "Rated Blitz tournament https://lichess.org/tournament/uitsh1pw            2\n",
       "Rated Blitz tournament https://lichess.org/tournament/lpotikyv            1\n",
       "Rated Bullet tournament https://lichess.org/tournament/k4se9ydi           1\n",
       "Name: count, Length: 151, dtype: int64"
      ]
     },
     "execution_count": 7,
     "metadata": {},
     "output_type": "execute_result"
    }
   ],
   "source": [
    "# Mostramos de forma descendente la cantidad de eventos\n",
    "Games['Event'].value_counts(sort=True, ascending=False)"
   ]
  },
  {
   "cell_type": "code",
   "execution_count": 8,
   "metadata": {},
   "outputs": [
    {
     "data": {
      "text/plain": [
       "(120117, 8)"
      ]
     },
     "execution_count": 8,
     "metadata": {},
     "output_type": "execute_result"
    }
   ],
   "source": [
    "# Filtramos los eventos que tengan más de 20 juegos\n",
    "events_20 = Games['Event'].value_counts()[Games['Event'].value_counts() > 20].index\n",
    "\n",
    "# Filter the Games DataFrame\n",
    "Games = Games[Games['Event'].isin(events_20)]\n",
    "Games.shape"
   ]
  },
  {
   "cell_type": "code",
   "execution_count": 9,
   "metadata": {},
   "outputs": [],
   "source": [
    "# Convertimos TimeControl a segundos base\n",
    "Games['TimeControl'] = Games['TimeControl'].apply(extraer_time_control)"
   ]
  },
  {
   "cell_type": "code",
   "execution_count": 10,
   "metadata": {},
   "outputs": [
    {
     "data": {
      "image/png": "[encoded data removed]",
      "text/plain": [
       "<Figure size 1200x600 with 1 Axes>"
      ]
     },
     "metadata": {},
     "output_type": "display_data"
    }
   ],
   "source": [
    "# Visualizamos los resultados con el tipo de eventos\n",
    "\n",
    "plt.figure(figsize=(12, 6))\n",
    "sns.countplot(\n",
    "    x='Event',  \n",
    "    hue= 'Result',\n",
    "    data=Games,  \n",
    "    palette='viridis')\n",
    "\n",
    "# Personalizamos el gráfico\n",
    "plt.title('Distribución de Resultados por Tipo de Evento', fontsize=16)\n",
    "plt.xlabel('Resultado', fontsize=12)\n",
    "plt.ylabel('Número de Partidas', fontsize=12)\n",
    "plt.legend(title='Tipo de Evento', bbox_to_anchor=(1.05, 1), loc='upper left')\n",
    "plt.tight_layout()\n",
    "\n",
    "# Mostramos el gráfico\n",
    "plt.show()"
   ]
  },
  {
   "cell_type": "code",
   "execution_count": 11,
   "metadata": {},
   "outputs": [],
   "source": [
    "# Seleccionamos las columnas categóricas\n",
    "columnas_categoricas = ['Event', 'ECO', 'Opening']\n",
    "\n",
    "# Aplicamos pd.factorize() a cada columna categórica\n",
    "for columna in columnas_categoricas:\n",
    "    Games[columna], _ = pd.factorize(Games[columna])"
   ]
  },
  {
   "cell_type": "code",
   "execution_count": 12,
   "metadata": {},
   "outputs": [
    {
     "data": {
      "application/vnd.microsoft.datawrangler.viewer.v0+json": {
       "columns": [
        {
         "name": "index",
         "rawType": "object",
         "type": "string"
        },
        {
         "name": "Event",
         "rawType": "float64",
         "type": "float"
        },
        {
         "name": "Result",
         "rawType": "float64",
         "type": "float"
        },
        {
         "name": "WhiteElo",
         "rawType": "float64",
         "type": "float"
        },
        {
         "name": "BlackElo",
         "rawType": "float64",
         "type": "float"
        },
        {
         "name": "TimeControl",
         "rawType": "float64",
         "type": "float"
        },
        {
         "name": "ECO",
         "rawType": "float64",
         "type": "float"
        },
        {
         "name": "Opening",
         "rawType": "float64",
         "type": "float"
        }
       ],
       "conversionMethod": "pd.DataFrame",
       "ref": "3fe7e0f8-7bce-4cc1-8763-7ddb9d3cd26d",
       "rows": [
        [
         "count",
         "120117.0",
         "120117.0",
         "120117.0",
         "120117.0",
         "120117.0",
         "120117.0",
         "120117.0"
        ],
        [
         "mean",
         "1.0345329969945969",
         "0.5205258206581916",
         "1605.0308282757644",
         "1594.2212925730746",
         "304.3332917072521",
         "44.70153267231116",
         "245.24108993731113"
        ],
        [
         "std",
         "0.8563278900031557",
         "0.5612493763107606",
         "207.0593897150829",
         "214.77924117216833",
         "289.96586625822385",
         "50.897078598634536",
         "287.3707773575351"
        ],
        [
         "min",
         "0.0",
         "0.0",
         "0.0",
         "0.0",
         "1.0",
         "0.0",
         "0.0"
        ],
        [
         "25%",
         "0.0",
         "0.0",
         "1474.0",
         "1462.0",
         "120.0",
         "12.0",
         "53.0"
        ],
        [
         "50%",
         "1.0",
         "0.0",
         "1602.0",
         "1588.0",
         "300.0",
         "27.0",
         "147.0"
        ],
        [
         "75%",
         "2.0",
         "1.0",
         "1739.0",
         "1732.0",
         "363.0",
         "57.0",
         "326.0"
        ],
        [
         "max",
         "3.0",
         "2.0",
         "2403.0",
         "2386.0",
         "1830.0",
         "410.0",
         "1843.0"
        ]
       ],
       "shape": {
        "columns": 7,
        "rows": 8
       }
      },
      "text/html": [
       "<div>\n",
       "<style scoped>\n",
       "    .dataframe tbody tr th:only-of-type {\n",
       "        vertical-align: middle;\n",
       "    }\n",
       "\n",
       "    .dataframe tbody tr th {\n",
       "        vertical-align: top;\n",
       "    }\n",
       "\n",
       "    .dataframe thead th {\n",
       "        text-align: right;\n",
       "    }\n",
       "</style>\n",
       "<table border=\"1\" class=\"dataframe\">\n",
       "  <thead>\n",
       "    <tr style=\"text-align: right;\">\n",
       "      <th></th>\n",
       "      <th>Event</th>\n",
       "      <th>Result</th>\n",
       "      <th>WhiteElo</th>\n",
       "      <th>BlackElo</th>\n",
       "      <th>TimeControl</th>\n",
       "      <th>ECO</th>\n",
       "      <th>Opening</th>\n",
       "    </tr>\n",
       "  </thead>\n",
       "  <tbody>\n",
       "    <tr>\n",
       "      <th>count</th>\n",
       "      <td>120117.000000</td>\n",
       "      <td>120117.000000</td>\n",
       "      <td>120117.000000</td>\n",
       "      <td>120117.000000</td>\n",
       "      <td>120117.000000</td>\n",
       "      <td>120117.000000</td>\n",
       "      <td>120117.000000</td>\n",
       "    </tr>\n",
       "    <tr>\n",
       "      <th>mean</th>\n",
       "      <td>1.034533</td>\n",
       "      <td>0.520526</td>\n",
       "      <td>1605.030828</td>\n",
       "      <td>1594.221293</td>\n",
       "      <td>304.333292</td>\n",
       "      <td>44.701533</td>\n",
       "      <td>245.241090</td>\n",
       "    </tr>\n",
       "    <tr>\n",
       "      <th>std</th>\n",
       "      <td>0.856328</td>\n",
       "      <td>0.561249</td>\n",
       "      <td>207.059390</td>\n",
       "      <td>214.779241</td>\n",
       "      <td>289.965866</td>\n",
       "      <td>50.897079</td>\n",
       "      <td>287.370777</td>\n",
       "    </tr>\n",
       "    <tr>\n",
       "      <th>min</th>\n",
       "      <td>0.000000</td>\n",
       "      <td>0.000000</td>\n",
       "      <td>0.000000</td>\n",
       "      <td>0.000000</td>\n",
       "      <td>1.000000</td>\n",
       "      <td>0.000000</td>\n",
       "      <td>0.000000</td>\n",
       "    </tr>\n",
       "    <tr>\n",
       "      <th>25%</th>\n",
       "      <td>0.000000</td>\n",
       "      <td>0.000000</td>\n",
       "      <td>1474.000000</td>\n",
       "      <td>1462.000000</td>\n",
       "      <td>120.000000</td>\n",
       "      <td>12.000000</td>\n",
       "      <td>53.000000</td>\n",
       "    </tr>\n",
       "    <tr>\n",
       "      <th>50%</th>\n",
       "      <td>1.000000</td>\n",
       "      <td>0.000000</td>\n",
       "      <td>1602.000000</td>\n",
       "      <td>1588.000000</td>\n",
       "      <td>300.000000</td>\n",
       "      <td>27.000000</td>\n",
       "      <td>147.000000</td>\n",
       "    </tr>\n",
       "    <tr>\n",
       "      <th>75%</th>\n",
       "      <td>2.000000</td>\n",
       "      <td>1.000000</td>\n",
       "      <td>1739.000000</td>\n",
       "      <td>1732.000000</td>\n",
       "      <td>363.000000</td>\n",
       "      <td>57.000000</td>\n",
       "      <td>326.000000</td>\n",
       "    </tr>\n",
       "    <tr>\n",
       "      <th>max</th>\n",
       "      <td>3.000000</td>\n",
       "      <td>2.000000</td>\n",
       "      <td>2403.000000</td>\n",
       "      <td>2386.000000</td>\n",
       "      <td>1830.000000</td>\n",
       "      <td>410.000000</td>\n",
       "      <td>1843.000000</td>\n",
       "    </tr>\n",
       "  </tbody>\n",
       "</table>\n",
       "</div>"
      ],
      "text/plain": [
       "               Event         Result       WhiteElo       BlackElo  \\\n",
       "count  120117.000000  120117.000000  120117.000000  120117.000000   \n",
       "mean        1.034533       0.520526    1605.030828    1594.221293   \n",
       "std         0.856328       0.561249     207.059390     214.779241   \n",
       "min         0.000000       0.000000       0.000000       0.000000   \n",
       "25%         0.000000       0.000000    1474.000000    1462.000000   \n",
       "50%         1.000000       0.000000    1602.000000    1588.000000   \n",
       "75%         2.000000       1.000000    1739.000000    1732.000000   \n",
       "max         3.000000       2.000000    2403.000000    2386.000000   \n",
       "\n",
       "         TimeControl            ECO        Opening  \n",
       "count  120117.000000  120117.000000  120117.000000  \n",
       "mean      304.333292      44.701533     245.241090  \n",
       "std       289.965866      50.897079     287.370777  \n",
       "min         1.000000       0.000000       0.000000  \n",
       "25%       120.000000      12.000000      53.000000  \n",
       "50%       300.000000      27.000000     147.000000  \n",
       "75%       363.000000      57.000000     326.000000  \n",
       "max      1830.000000     410.000000    1843.000000  "
      ]
     },
     "execution_count": 12,
     "metadata": {},
     "output_type": "execute_result"
    }
   ],
   "source": [
    "# Verificamos las estadísticas de los datos\n",
    "Games.describe()"
   ]
  },
  {
   "cell_type": "markdown",
   "metadata": {},
   "source": [
    "# Modelo"
   ]
  },
  {
   "cell_type": "code",
   "execution_count": 13,
   "metadata": {},
   "outputs": [
    {
     "name": "stdout",
     "output_type": "stream",
     "text": [
      "Preparando datos para entrenamiento...\n",
      "Extrayendo características usando el evaluador...\n"
     ]
    },
    {
     "name": "stderr",
     "output_type": "stream",
     "text": [
      "Procesando lotes: 100%|██████████| 121/121 [01:03<00:00,  1.89it/s]\n"
     ]
    },
    {
     "name": "stdout",
     "output_type": "stream",
     "text": [
      "Preparando datos para entrenamiento...\n",
      "Usando características ya extraídas del DataFrame\n",
      "Datos preparados: 120117 muestras, 45 características\n",
      "Entrenando modelo de predicción de resultado...\n",
      "Escalando características...\n",
      "Realizando búsqueda de hiperparámetros (esto puede tomar tiempo)...\n",
      "Usando una muestra de 50000 ejemplos para búsqueda de hiperparámetros\n",
      "Mejores hiperparámetros: {'subsample': 0.9, 'n_estimators': 200, 'min_child_weight': 5, 'max_depth': 5, 'learning_rate': 0.2, 'colsample_bytree': 0.9}\n",
      "Entrenando en lotes de 10000 ejemplos...\n",
      "[0]\tvalidation_0-mlogloss:0.97416\n",
      "[1]\tvalidation_0-mlogloss:0.88224\n",
      "[2]\tvalidation_0-mlogloss:0.81616\n",
      "[3]\tvalidation_0-mlogloss:0.76091\n",
      "[4]\tvalidation_0-mlogloss:0.71719\n",
      "[5]\tvalidation_0-mlogloss:0.68100\n",
      "[6]\tvalidation_0-mlogloss:0.65046\n",
      "[7]\tvalidation_0-mlogloss:0.62546\n",
      "[8]\tvalidation_0-mlogloss:0.60527\n",
      "[9]\tvalidation_0-mlogloss:0.58692\n",
      "[10]\tvalidation_0-mlogloss:0.57237\n",
      "[11]\tvalidation_0-mlogloss:0.56060\n",
      "[12]\tvalidation_0-mlogloss:0.54952\n",
      "[13]\tvalidation_0-mlogloss:0.54021\n",
      "[14]\tvalidation_0-mlogloss:0.53198\n",
      "[15]\tvalidation_0-mlogloss:0.52497\n",
      "[16]\tvalidation_0-mlogloss:0.51940\n",
      "[17]\tvalidation_0-mlogloss:0.51513\n",
      "[18]\tvalidation_0-mlogloss:0.50867\n",
      "[19]\tvalidation_0-mlogloss:0.50458\n",
      "[20]\tvalidation_0-mlogloss:0.50023\n",
      "[21]\tvalidation_0-mlogloss:0.49742\n",
      "[22]\tvalidation_0-mlogloss:0.49485\n",
      "[23]\tvalidation_0-mlogloss:0.49199\n",
      "[24]\tvalidation_0-mlogloss:0.49004\n",
      "[25]\tvalidation_0-mlogloss:0.48872\n",
      "[26]\tvalidation_0-mlogloss:0.48645\n",
      "[27]\tvalidation_0-mlogloss:0.48358\n",
      "[28]\tvalidation_0-mlogloss:0.48185\n",
      "[29]\tvalidation_0-mlogloss:0.48078\n",
      "[30]\tvalidation_0-mlogloss:0.47980\n",
      "[31]\tvalidation_0-mlogloss:0.47817\n",
      "[32]\tvalidation_0-mlogloss:0.47724\n",
      "[33]\tvalidation_0-mlogloss:0.47626\n",
      "[34]\tvalidation_0-mlogloss:0.47519\n",
      "[35]\tvalidation_0-mlogloss:0.47465\n",
      "[36]\tvalidation_0-mlogloss:0.47440\n",
      "[37]\tvalidation_0-mlogloss:0.47351\n",
      "[38]\tvalidation_0-mlogloss:0.47268\n",
      "[39]\tvalidation_0-mlogloss:0.47221\n",
      "[40]\tvalidation_0-mlogloss:0.47146\n",
      "[41]\tvalidation_0-mlogloss:0.47143\n",
      "[42]\tvalidation_0-mlogloss:0.47105\n",
      "[43]\tvalidation_0-mlogloss:0.47073\n",
      "[44]\tvalidation_0-mlogloss:0.47013\n",
      "[45]\tvalidation_0-mlogloss:0.46965\n",
      "[46]\tvalidation_0-mlogloss:0.46925\n",
      "[47]\tvalidation_0-mlogloss:0.46938\n",
      "[48]\tvalidation_0-mlogloss:0.46915\n",
      "[49]\tvalidation_0-mlogloss:0.46885\n",
      "[50]\tvalidation_0-mlogloss:0.46854\n",
      "[51]\tvalidation_0-mlogloss:0.46823\n",
      "[52]\tvalidation_0-mlogloss:0.46807\n",
      "[53]\tvalidation_0-mlogloss:0.46770\n",
      "[54]\tvalidation_0-mlogloss:0.46740\n",
      "[55]\tvalidation_0-mlogloss:0.46712\n",
      "[56]\tvalidation_0-mlogloss:0.46700\n",
      "[57]\tvalidation_0-mlogloss:0.46708\n",
      "[58]\tvalidation_0-mlogloss:0.46653\n",
      "[59]\tvalidation_0-mlogloss:0.46641\n",
      "[60]\tvalidation_0-mlogloss:0.46622\n",
      "[61]\tvalidation_0-mlogloss:0.46618\n",
      "[62]\tvalidation_0-mlogloss:0.46582\n",
      "[63]\tvalidation_0-mlogloss:0.46575\n",
      "[64]\tvalidation_0-mlogloss:0.46570\n",
      "[65]\tvalidation_0-mlogloss:0.46552\n",
      "[66]\tvalidation_0-mlogloss:0.46535\n",
      "[67]\tvalidation_0-mlogloss:0.46540\n",
      "[68]\tvalidation_0-mlogloss:0.46522\n",
      "[69]\tvalidation_0-mlogloss:0.46538\n",
      "[70]\tvalidation_0-mlogloss:0.46546\n",
      "[71]\tvalidation_0-mlogloss:0.46539\n",
      "[72]\tvalidation_0-mlogloss:0.46527\n",
      "[73]\tvalidation_0-mlogloss:0.46517\n",
      "[74]\tvalidation_0-mlogloss:0.46520\n",
      "[75]\tvalidation_0-mlogloss:0.46524\n",
      "[76]\tvalidation_0-mlogloss:0.46527\n",
      "[77]\tvalidation_0-mlogloss:0.46544\n",
      "[78]\tvalidation_0-mlogloss:0.46539\n",
      "[79]\tvalidation_0-mlogloss:0.46544\n",
      "[80]\tvalidation_0-mlogloss:0.46549\n",
      "[81]\tvalidation_0-mlogloss:0.46546\n",
      "[82]\tvalidation_0-mlogloss:0.46549\n",
      "[83]\tvalidation_0-mlogloss:0.46548\n",
      "[84]\tvalidation_0-mlogloss:0.46533\n",
      "[85]\tvalidation_0-mlogloss:0.46554\n",
      "[86]\tvalidation_0-mlogloss:0.46567\n",
      "[87]\tvalidation_0-mlogloss:0.46574\n",
      "[88]\tvalidation_0-mlogloss:0.46587\n",
      "[89]\tvalidation_0-mlogloss:0.46602\n",
      "[90]\tvalidation_0-mlogloss:0.46601\n",
      "[91]\tvalidation_0-mlogloss:0.46594\n",
      "[92]\tvalidation_0-mlogloss:0.46619\n",
      "[93]\tvalidation_0-mlogloss:0.46616\n",
      "[94]\tvalidation_0-mlogloss:0.46626\n",
      "[95]\tvalidation_0-mlogloss:0.46603\n",
      "[96]\tvalidation_0-mlogloss:0.46622\n",
      "[97]\tvalidation_0-mlogloss:0.46634\n",
      "[98]\tvalidation_0-mlogloss:0.46654\n",
      "[99]\tvalidation_0-mlogloss:0.46670\n",
      "[100]\tvalidation_0-mlogloss:0.46668\n",
      "[101]\tvalidation_0-mlogloss:0.46656\n",
      "[102]\tvalidation_0-mlogloss:0.46663\n",
      "[103]\tvalidation_0-mlogloss:0.46675\n",
      "[104]\tvalidation_0-mlogloss:0.46686\n",
      "[105]\tvalidation_0-mlogloss:0.46707\n",
      "[106]\tvalidation_0-mlogloss:0.46716\n",
      "[107]\tvalidation_0-mlogloss:0.46707\n",
      "[108]\tvalidation_0-mlogloss:0.46724\n",
      "[109]\tvalidation_0-mlogloss:0.46753\n",
      "[110]\tvalidation_0-mlogloss:0.46759\n",
      "[111]\tvalidation_0-mlogloss:0.46778\n",
      "[112]\tvalidation_0-mlogloss:0.46771\n",
      "[113]\tvalidation_0-mlogloss:0.46785\n",
      "[114]\tvalidation_0-mlogloss:0.46795\n",
      "[115]\tvalidation_0-mlogloss:0.46799\n",
      "[116]\tvalidation_0-mlogloss:0.46773\n",
      "[117]\tvalidation_0-mlogloss:0.46801\n",
      "[118]\tvalidation_0-mlogloss:0.46811\n",
      "[119]\tvalidation_0-mlogloss:0.46830\n",
      "[120]\tvalidation_0-mlogloss:0.46829\n",
      "[121]\tvalidation_0-mlogloss:0.46855\n",
      "[122]\tvalidation_0-mlogloss:0.46864\n",
      "[123]\tvalidation_0-mlogloss:0.46882\n",
      "[124]\tvalidation_0-mlogloss:0.46897\n",
      "[125]\tvalidation_0-mlogloss:0.46903\n",
      "[126]\tvalidation_0-mlogloss:0.46933\n",
      "[127]\tvalidation_0-mlogloss:0.46946\n",
      "[128]\tvalidation_0-mlogloss:0.46963\n",
      "[129]\tvalidation_0-mlogloss:0.46990\n",
      "[130]\tvalidation_0-mlogloss:0.47004\n",
      "[131]\tvalidation_0-mlogloss:0.47031\n",
      "[132]\tvalidation_0-mlogloss:0.47049\n",
      "[133]\tvalidation_0-mlogloss:0.47058\n",
      "[134]\tvalidation_0-mlogloss:0.47064\n",
      "[135]\tvalidation_0-mlogloss:0.47069\n",
      "[136]\tvalidation_0-mlogloss:0.47074\n",
      "[137]\tvalidation_0-mlogloss:0.47101\n",
      "[138]\tvalidation_0-mlogloss:0.47076\n",
      "[139]\tvalidation_0-mlogloss:0.47096\n",
      "[140]\tvalidation_0-mlogloss:0.47104\n",
      "[141]\tvalidation_0-mlogloss:0.47109\n",
      "[142]\tvalidation_0-mlogloss:0.47131\n",
      "[143]\tvalidation_0-mlogloss:0.47154\n",
      "[144]\tvalidation_0-mlogloss:0.47170\n",
      "[145]\tvalidation_0-mlogloss:0.47178\n",
      "[146]\tvalidation_0-mlogloss:0.47179\n",
      "[147]\tvalidation_0-mlogloss:0.47182\n",
      "[148]\tvalidation_0-mlogloss:0.47197\n",
      "[149]\tvalidation_0-mlogloss:0.47212\n",
      "[150]\tvalidation_0-mlogloss:0.47238\n",
      "[151]\tvalidation_0-mlogloss:0.47228\n",
      "[152]\tvalidation_0-mlogloss:0.47238\n",
      "[153]\tvalidation_0-mlogloss:0.47251\n",
      "[154]\tvalidation_0-mlogloss:0.47252\n",
      "[155]\tvalidation_0-mlogloss:0.47285\n",
      "[156]\tvalidation_0-mlogloss:0.47307\n",
      "[157]\tvalidation_0-mlogloss:0.47312\n",
      "[158]\tvalidation_0-mlogloss:0.47318\n",
      "[159]\tvalidation_0-mlogloss:0.47342\n",
      "[160]\tvalidation_0-mlogloss:0.47368\n",
      "[161]\tvalidation_0-mlogloss:0.47405\n",
      "[162]\tvalidation_0-mlogloss:0.47408\n",
      "[163]\tvalidation_0-mlogloss:0.47436\n",
      "[164]\tvalidation_0-mlogloss:0.47461\n",
      "[165]\tvalidation_0-mlogloss:0.47476\n",
      "[166]\tvalidation_0-mlogloss:0.47497\n",
      "[167]\tvalidation_0-mlogloss:0.47507\n",
      "[168]\tvalidation_0-mlogloss:0.47517\n",
      "[169]\tvalidation_0-mlogloss:0.47530\n",
      "[170]\tvalidation_0-mlogloss:0.47547\n",
      "[171]\tvalidation_0-mlogloss:0.47572\n",
      "[172]\tvalidation_0-mlogloss:0.47585\n",
      "[173]\tvalidation_0-mlogloss:0.47600\n",
      "[174]\tvalidation_0-mlogloss:0.47621\n",
      "[175]\tvalidation_0-mlogloss:0.47616\n",
      "[176]\tvalidation_0-mlogloss:0.47632\n",
      "[177]\tvalidation_0-mlogloss:0.47699\n",
      "[178]\tvalidation_0-mlogloss:0.47726\n",
      "[179]\tvalidation_0-mlogloss:0.47743\n",
      "[180]\tvalidation_0-mlogloss:0.47744\n",
      "[181]\tvalidation_0-mlogloss:0.47756\n",
      "[182]\tvalidation_0-mlogloss:0.47795\n",
      "[183]\tvalidation_0-mlogloss:0.47813\n",
      "[184]\tvalidation_0-mlogloss:0.47851\n",
      "[185]\tvalidation_0-mlogloss:0.47861\n",
      "[186]\tvalidation_0-mlogloss:0.47865\n",
      "[187]\tvalidation_0-mlogloss:0.47888\n",
      "[188]\tvalidation_0-mlogloss:0.47899\n",
      "[189]\tvalidation_0-mlogloss:0.47916\n",
      "[190]\tvalidation_0-mlogloss:0.47930\n",
      "[191]\tvalidation_0-mlogloss:0.47929\n",
      "[192]\tvalidation_0-mlogloss:0.47945\n",
      "[193]\tvalidation_0-mlogloss:0.47978\n",
      "[194]\tvalidation_0-mlogloss:0.48002\n",
      "[195]\tvalidation_0-mlogloss:0.48012\n",
      "[196]\tvalidation_0-mlogloss:0.48021\n",
      "[197]\tvalidation_0-mlogloss:0.48057\n",
      "[198]\tvalidation_0-mlogloss:0.48098\n",
      "[199]\tvalidation_0-mlogloss:0.48112\n"
     ]
    },
    {
     "name": "stderr",
     "output_type": "stream",
     "text": [
      "Entrenando lotes: 100%|██████████| 9/9 [00:14<00:00,  1.60s/it]\n"
     ]
    },
    {
     "name": "stdout",
     "output_type": "stream",
     "text": [
      "Precisión del modelo: 0.7820\n",
      "F1-score: 0.7793\n",
      "              precision    recall  f1-score   support\n",
      "\n",
      "           0       0.80      0.81      0.81     12305\n",
      "           1       0.78      0.78      0.78     10933\n",
      "           2       0.41      0.27      0.32       786\n",
      "\n",
      "    accuracy                           0.78     24024\n",
      "   macro avg       0.66      0.62      0.64     24024\n",
      "weighted avg       0.78      0.78      0.78     24024\n",
      "\n",
      "Realizando validación cruzada con una muestra de 50000 ejemplos...\n",
      "F1-score en validación cruzada: 0.8098 ± 0.0023\n",
      "Entrenando modelo de predicción de rendimiento...\n",
      "Entrenando modelo para rendimiento de blancas...\n",
      "Realizando búsqueda de hiperparámetros para white...\n",
      "Usando una muestra de 50000 ejemplos para búsqueda de hiperparámetros\n",
      "Mejores hiperparámetros para white: {'subsample': 0.8, 'n_estimators': 200, 'min_child_weight': 3, 'max_depth': 7, 'learning_rate': 0.05, 'colsample_bytree': 0.7}\n",
      "Entrenando en lotes de 10000 ejemplos...\n"
     ]
    },
    {
     "name": "stderr",
     "output_type": "stream",
     "text": [
      "Entrenando lotes para white: 100%|██████████| 9/9 [00:11<00:00,  1.30s/it]\n"
     ]
    },
    {
     "name": "stdout",
     "output_type": "stream",
     "text": [
      "MSE para white: 61.4446\n",
      "R² para white: 0.5941\n",
      "Entrenando modelo para rendimiento de negras...\n",
      "Realizando búsqueda de hiperparámetros para black...\n",
      "Usando una muestra de 50000 ejemplos para búsqueda de hiperparámetros\n",
      "Mejores hiperparámetros para black: {'subsample': 0.8, 'n_estimators': 300, 'min_child_weight': 5, 'max_depth': 5, 'learning_rate': 0.05, 'colsample_bytree': 0.7}\n",
      "Entrenando en lotes de 10000 ejemplos...\n"
     ]
    },
    {
     "name": "stderr",
     "output_type": "stream",
     "text": [
      "Entrenando lotes para black: 100%|██████████| 9/9 [00:10<00:00,  1.21s/it]\n"
     ]
    },
    {
     "name": "stdout",
     "output_type": "stream",
     "text": [
      "MSE para black: 51.3111\n",
      "R² para black: 0.6254\n",
      "Entrenando red neuronal para rendimiento...\n",
      "Usando 10000 ejemplos para validación\n",
      "Entrenando red neuronal en lotes de 10000 ejemplos...\n",
      "Época 1/50\n"
     ]
    },
    {
     "name": "stderr",
     "output_type": "stream",
     "text": [
      "Lotes: 100%|██████████| 10/10 [00:08<00:00,  1.20it/s]\n"
     ]
    },
    {
     "name": "stdout",
     "output_type": "stream",
     "text": [
      "loss: 443.4577 - mae: 14.1362 - val_loss: 52.0373 - val_mae: 5.6329\n",
      "Guardando mejor modelo...\n",
      "Época 2/50\n"
     ]
    },
    {
     "name": "stderr",
     "output_type": "stream",
     "text": [
      "Lotes: 100%|██████████| 10/10 [00:04<00:00,  2.16it/s]\n"
     ]
    },
    {
     "name": "stdout",
     "output_type": "stream",
     "text": [
      "loss: 58.0044 - mae: 5.9079 - val_loss: 50.9917 - val_mae: 5.3853\n",
      "Guardando mejor modelo...\n",
      "Época 3/50\n"
     ]
    },
    {
     "name": "stderr",
     "output_type": "stream",
     "text": [
      "Lotes: 100%|██████████| 10/10 [00:04<00:00,  2.19it/s]\n"
     ]
    },
    {
     "name": "stdout",
     "output_type": "stream",
     "text": [
      "loss: 56.4655 - mae: 5.7491 - val_loss: 49.8883 - val_mae: 5.3007\n",
      "Guardando mejor modelo...\n",
      "Época 4/50\n"
     ]
    },
    {
     "name": "stderr",
     "output_type": "stream",
     "text": [
      "Lotes: 100%|██████████| 10/10 [00:04<00:00,  2.18it/s]\n"
     ]
    },
    {
     "name": "stdout",
     "output_type": "stream",
     "text": [
      "loss: 55.6185 - mae: 5.6720 - val_loss: 49.9933 - val_mae: 5.2127\n",
      "Época 5/50\n"
     ]
    },
    {
     "name": "stderr",
     "output_type": "stream",
     "text": [
      "Lotes: 100%|██████████| 10/10 [00:04<00:00,  2.26it/s]\n"
     ]
    },
    {
     "name": "stdout",
     "output_type": "stream",
     "text": [
      "loss: 55.0635 - mae: 5.6138 - val_loss: 47.7260 - val_mae: 5.0251\n",
      "Guardando mejor modelo...\n",
      "Época 6/50\n"
     ]
    },
    {
     "name": "stderr",
     "output_type": "stream",
     "text": [
      "Lotes: 100%|██████████| 10/10 [00:04<00:00,  2.18it/s]\n"
     ]
    },
    {
     "name": "stdout",
     "output_type": "stream",
     "text": [
      "loss: 54.3430 - mae: 5.5566 - val_loss: 48.1168 - val_mae: 5.0393\n",
      "Época 7/50\n"
     ]
    },
    {
     "name": "stderr",
     "output_type": "stream",
     "text": [
      "Lotes: 100%|██████████| 10/10 [00:04<00:00,  2.28it/s]\n"
     ]
    },
    {
     "name": "stdout",
     "output_type": "stream",
     "text": [
      "loss: 54.1894 - mae: 5.5318 - val_loss: 48.1843 - val_mae: 5.1279\n",
      "Época 8/50\n"
     ]
    },
    {
     "name": "stderr",
     "output_type": "stream",
     "text": [
      "Lotes: 100%|██████████| 10/10 [00:04<00:00,  2.27it/s]\n"
     ]
    },
    {
     "name": "stdout",
     "output_type": "stream",
     "text": [
      "loss: 53.9090 - mae: 5.5130 - val_loss: 47.4677 - val_mae: 5.1509\n",
      "Guardando mejor modelo...\n",
      "Época 9/50\n"
     ]
    },
    {
     "name": "stderr",
     "output_type": "stream",
     "text": [
      "Lotes: 100%|██████████| 10/10 [00:04<00:00,  2.22it/s]\n"
     ]
    },
    {
     "name": "stdout",
     "output_type": "stream",
     "text": [
      "loss: 53.7986 - mae: 5.5085 - val_loss: 47.5316 - val_mae: 5.1472\n",
      "Época 10/50\n"
     ]
    },
    {
     "name": "stderr",
     "output_type": "stream",
     "text": [
      "Lotes: 100%|██████████| 10/10 [00:04<00:00,  2.22it/s]\n"
     ]
    },
    {
     "name": "stdout",
     "output_type": "stream",
     "text": [
      "loss: 53.2223 - mae: 5.4573 - val_loss: 47.4457 - val_mae: 5.1361\n",
      "Guardando mejor modelo...\n",
      "Época 11/50\n"
     ]
    },
    {
     "name": "stderr",
     "output_type": "stream",
     "text": [
      "Lotes: 100%|██████████| 10/10 [00:04<00:00,  2.16it/s]\n"
     ]
    },
    {
     "name": "stdout",
     "output_type": "stream",
     "text": [
      "loss: 53.2010 - mae: 5.4577 - val_loss: 47.8145 - val_mae: 5.0816\n",
      "Época 12/50\n"
     ]
    },
    {
     "name": "stderr",
     "output_type": "stream",
     "text": [
      "Lotes: 100%|██████████| 10/10 [00:04<00:00,  2.29it/s]\n"
     ]
    },
    {
     "name": "stdout",
     "output_type": "stream",
     "text": [
      "loss: 52.9397 - mae: 5.4330 - val_loss: 47.1010 - val_mae: 4.9704\n",
      "Guardando mejor modelo...\n",
      "Época 13/50\n"
     ]
    },
    {
     "name": "stderr",
     "output_type": "stream",
     "text": [
      "Lotes: 100%|██████████| 10/10 [00:04<00:00,  2.15it/s]\n"
     ]
    },
    {
     "name": "stdout",
     "output_type": "stream",
     "text": [
      "loss: 52.6973 - mae: 5.4151 - val_loss: 46.8081 - val_mae: 4.9810\n",
      "Guardando mejor modelo...\n",
      "Época 14/50\n"
     ]
    },
    {
     "name": "stderr",
     "output_type": "stream",
     "text": [
      "Lotes: 100%|██████████| 10/10 [00:04<00:00,  2.23it/s]\n"
     ]
    },
    {
     "name": "stdout",
     "output_type": "stream",
     "text": [
      "loss: 52.6855 - mae: 5.4052 - val_loss: 47.2120 - val_mae: 5.0482\n",
      "Época 15/50\n"
     ]
    },
    {
     "name": "stderr",
     "output_type": "stream",
     "text": [
      "Lotes: 100%|██████████| 10/10 [00:04<00:00,  2.32it/s]\n"
     ]
    },
    {
     "name": "stdout",
     "output_type": "stream",
     "text": [
      "loss: 52.5623 - mae: 5.3842 - val_loss: 47.3613 - val_mae: 4.9510\n",
      "Época 16/50\n"
     ]
    },
    {
     "name": "stderr",
     "output_type": "stream",
     "text": [
      "Lotes: 100%|██████████| 10/10 [00:04<00:00,  2.32it/s]\n"
     ]
    },
    {
     "name": "stdout",
     "output_type": "stream",
     "text": [
      "loss: 52.1692 - mae: 5.3535 - val_loss: 47.0173 - val_mae: 4.9103\n",
      "Época 17/50\n"
     ]
    },
    {
     "name": "stderr",
     "output_type": "stream",
     "text": [
      "Lotes: 100%|██████████| 10/10 [00:04<00:00,  2.29it/s]\n"
     ]
    },
    {
     "name": "stdout",
     "output_type": "stream",
     "text": [
      "loss: 51.9204 - mae: 5.3415 - val_loss: 46.7550 - val_mae: 4.9263\n",
      "Guardando mejor modelo...\n",
      "Época 18/50\n"
     ]
    },
    {
     "name": "stderr",
     "output_type": "stream",
     "text": [
      "Lotes: 100%|██████████| 10/10 [00:04<00:00,  2.18it/s]\n"
     ]
    },
    {
     "name": "stdout",
     "output_type": "stream",
     "text": [
      "loss: 52.1979 - mae: 5.3461 - val_loss: 46.6702 - val_mae: 4.9284\n",
      "Guardando mejor modelo...\n",
      "Época 19/50\n"
     ]
    },
    {
     "name": "stderr",
     "output_type": "stream",
     "text": [
      "Lotes: 100%|██████████| 10/10 [00:04<00:00,  2.23it/s]\n"
     ]
    },
    {
     "name": "stdout",
     "output_type": "stream",
     "text": [
      "loss: 51.7865 - mae: 5.3259 - val_loss: 46.6325 - val_mae: 4.9755\n",
      "Guardando mejor modelo...\n",
      "Época 20/50\n"
     ]
    },
    {
     "name": "stderr",
     "output_type": "stream",
     "text": [
      "Lotes: 100%|██████████| 10/10 [00:04<00:00,  2.12it/s]\n"
     ]
    },
    {
     "name": "stdout",
     "output_type": "stream",
     "text": [
      "loss: 51.9316 - mae: 5.3414 - val_loss: 46.7328 - val_mae: 4.9572\n",
      "Época 21/50\n"
     ]
    },
    {
     "name": "stderr",
     "output_type": "stream",
     "text": [
      "Lotes: 100%|██████████| 10/10 [00:04<00:00,  2.24it/s]\n"
     ]
    },
    {
     "name": "stdout",
     "output_type": "stream",
     "text": [
      "loss: 51.6280 - mae: 5.3171 - val_loss: 46.5557 - val_mae: 5.0451\n",
      "Guardando mejor modelo...\n",
      "Época 22/50\n"
     ]
    },
    {
     "name": "stderr",
     "output_type": "stream",
     "text": [
      "Lotes: 100%|██████████| 10/10 [00:04<00:00,  2.17it/s]\n"
     ]
    },
    {
     "name": "stdout",
     "output_type": "stream",
     "text": [
      "loss: 51.7581 - mae: 5.3192 - val_loss: 46.2662 - val_mae: 4.8354\n",
      "Guardando mejor modelo...\n",
      "Época 23/50\n"
     ]
    },
    {
     "name": "stderr",
     "output_type": "stream",
     "text": [
      "Lotes: 100%|██████████| 10/10 [00:04<00:00,  2.21it/s]\n"
     ]
    },
    {
     "name": "stdout",
     "output_type": "stream",
     "text": [
      "loss: 51.5055 - mae: 5.2977 - val_loss: 46.2824 - val_mae: 4.8672\n",
      "Early stopping en época 23\n",
      "\u001b[1m751/751\u001b[0m \u001b[32m━━━━━━━━━━━━━━━━━━━━\u001b[0m\u001b[37m\u001b[0m \u001b[1m1s\u001b[0m 623us/step\n",
      "Error cuadrático medio: 46.5938\n",
      "Error absoluto medio: 4.8622\n",
      "R² Score: 0.6867\n",
      "\u001b[1m32/32\u001b[0m \u001b[32m━━━━━━━━━━━━━━━━━━━━\u001b[0m\u001b[37m\u001b[0m \u001b[1m0s\u001b[0m 882us/step\n",
      "Usando una muestra de 1000 ejemplos para comparación de modelos\n",
      "\u001b[1m32/32\u001b[0m \u001b[32m━━━━━━━━━━━━━━━━━━━━\u001b[0m\u001b[37m\u001b[0m \u001b[1m0s\u001b[0m 1ms/step \n",
      "\n",
      "Comparación de modelos de rendimiento:\n",
      "XGBoost - Rendimiento Blancas MSE: 63.0011\n",
      "Red Neuronal - Rendimiento Blancas MSE: 50.3761\n",
      "XGBoost - Rendimiento Negras MSE: 53.9491\n",
      "Red Neuronal - Rendimiento Negras MSE: 45.9645\n"
     ]
    }
   ],
   "source": [
    "# Crear instancia del predictor\n",
    "predictor = ChessResultPredictor(models_dir='../models/mi_modelo_ajedrez')\n",
    "\n",
    "# Entrenar modelos\n",
    "eval_results = predictor.train_models(\n",
    "    df=Games, \n",
    "    moves_col='Moves',  # Columna con los movimientos\n",
    "    result_col='Result',  # Columna con los resultados\n",
    "    batch_size=10000\n",
    ")"
   ]
  }
 ],
 "metadata": {
  "kernelspec": {
   "display_name": "Python 3",
   "language": "python",
   "name": "python3"
  },
  "language_info": {
   "codemirror_mode": {
    "name": "ipython",
    "version": 3
   },
   "file_extension": ".py",
   "mimetype": "text/x-python",
   "name": "python",
   "nbconvert_exporter": "python",
   "pygments_lexer": "ipython3",
   "version": "3.12.9"
  },
  "orig_nbformat": 4
 },
 "nbformat": 4,
 "nbformat_minor": 2
}
